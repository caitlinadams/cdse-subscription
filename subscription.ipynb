{
 "cells": [
  {
   "cell_type": "code",
   "execution_count": null,
   "metadata": {},
   "outputs": [],
   "source": [
    "%load_ext autoreload\n",
    "%autoreload 2"
   ]
  },
  {
   "cell_type": "code",
   "execution_count": null,
   "metadata": {},
   "outputs": [],
   "source": [
    "import requests\n",
    "from requests.exceptions import HTTPError\n",
    "import yaml"
   ]
  },
  {
   "cell_type": "markdown",
   "metadata": {},
   "source": [
    "## Read CDSE credentials"
   ]
  },
  {
   "cell_type": "code",
   "execution_count": null,
   "metadata": {},
   "outputs": [],
   "source": [
    "cdse_credentials_file = \"credentials/credentials_cdse.yaml\"\n",
    "\n",
    "with open(cdse_credentials_file, \"r\") as file:\n",
    "    cdse_credentials = yaml.safe_load(file)"
   ]
  },
  {
   "cell_type": "markdown",
   "metadata": {},
   "source": [
    "## Set up access and refresh token"
   ]
  },
  {
   "cell_type": "code",
   "execution_count": null,
   "metadata": {},
   "outputs": [],
   "source": [
    "cdse_token_url = \"https://identity.dataspace.copernicus.eu/auth/realms/CDSE/protocol/openid-connect/token\"\n",
    "\n",
    "data = {\n",
    "    \"grant_type\": \"password\",\n",
    "    \"username\": f\"{cdse_credentials[\"login\"]}\",\n",
    "    \"password\": f\"{cdse_credentials[\"password\"]}\",\n",
    "    \"client_id\": \"cdse-public\",\n",
    "}\n",
    "\n",
    "response = requests.post(\n",
    "    url=cdse_token_url,\n",
    "    data=data,\n",
    ").json()\n",
    "\n",
    "access_token = response[\"access_token\"]\n",
    "refresh_token = response[\"refresh_token\"]"
   ]
  },
  {
   "cell_type": "markdown",
   "metadata": {},
   "source": [
    "### Look at contents of response\n",
    "\n",
    "Importantly, this shows that the authorisation token expires after 600 seconds (10 minutes) and the refresh token expires after 3600 seconds (1 hour)."
   ]
  },
  {
   "cell_type": "code",
   "execution_count": null,
   "metadata": {},
   "outputs": [],
   "source": [
    "response"
   ]
  },
  {
   "cell_type": "markdown",
   "metadata": {},
   "source": [
    "### Define function to refresh access token\n",
    "The refresh token can be used to re-generate the access token without supplying usernames and passwords.\n",
    "This will work for an hour from when the original access token is generated.\n",
    "\n",
    "For this notebook, working with Python, the function below will refresh the access token and return a new `headers` string for use with `requests`."
   ]
  },
  {
   "cell_type": "code",
   "execution_count": null,
   "metadata": {},
   "outputs": [],
   "source": [
    "def refresh_cdse_access_token_header(refresh_token):\n",
    "\n",
    "    cdse_token_url = \"https://identity.dataspace.copernicus.eu/auth/realms/CDSE/protocol/openid-connect/token\"\n",
    "\n",
    "    data = {\n",
    "        \"grant_type\": \"refresh_token\",\n",
    "        \"refresh_token\": f\"{refresh_token}\",\n",
    "        \"client_id\": \"cdse-public\",\n",
    "    }\n",
    "\n",
    "    response = requests.post(\n",
    "        url=cdse_token_url,\n",
    "        data=data,\n",
    "    ).json()\n",
    "\n",
    "    access_token = response[\"access_token\"]\n",
    "    headers = {\"Authorization\": f\"Bearer {access_token}\"}\n",
    "\n",
    "    return headers"
   ]
  },
  {
   "cell_type": "markdown",
   "metadata": {},
   "source": [
    "## PULL subscription"
   ]
  },
  {
   "cell_type": "markdown",
   "metadata": {},
   "source": [
    "### Create the subscription\n",
    "\n",
    "The limit of the running Subscriptions (PUSH and PULL) for one user is 1. \n",
    "The overall limit of the Subscriptions (running and paused) for one user is 10.\n",
    "\n",
    "The code will attempt to create a subscription, and return a message if it fails"
   ]
  },
  {
   "cell_type": "code",
   "execution_count": null,
   "metadata": {},
   "outputs": [],
   "source": [
    "headers = refresh_cdse_access_token_header(refresh_token)\n",
    "\n",
    "# Create pull subscription\n",
    "pull_subscription_url = \"https://catalogue.dataspace.copernicus.eu/odata/v1/Subscriptions\"\n",
    "\n",
    "pull_subscription_data = {\n",
    "    \"StageOrder\": True,\n",
    "    \"FilterParam\": \"Collection/Name eq 'SENTINEL-1' and Attributes/OData.CSC.StringAttribute/any(att:att/Name eq 'productType' and att/OData.CSC.StringAttribute/Value eq 'IW_SLC__1S')\",\n",
    "    \"Priority\": 1,\n",
    "    \"Status\": \"running\",\n",
    "    \"SubscriptionEvent\": \"modified\"\n",
    "}\n",
    "\n",
    "# Try to create the subscription, raise an error if limit of subscriptions is reached\n",
    "try:\n",
    "    subscription_response = requests.post(\n",
    "        url=pull_subscription_url, \n",
    "        json=pull_subscription_data, \n",
    "        headers=headers\n",
    "    )\n",
    "    subscription_response.raise_for_status()\n",
    "except HTTPError as http_err:\n",
    "    print(f\"HTTP error occurred: {http_err}\")\n",
    "    message = subscription_response.json()[\"detail\"][\"message\"]\n",
    "    print(f\"HTTP error message: {message}\")"
   ]
  },
  {
   "cell_type": "markdown",
   "metadata": {},
   "source": [
    "### View the subscription"
   ]
  },
  {
   "cell_type": "code",
   "execution_count": null,
   "metadata": {},
   "outputs": [],
   "source": [
    "headers = refresh_cdse_access_token_header(refresh_token)\n",
    "\n",
    "cdse_subscription_info_url = \"https://catalogue.dataspace.copernicus.eu/odata/v1/Subscriptions/Info\"\n",
    "\n",
    "subscription_info_response = requests.get(url=cdse_subscription_info_url, headers=headers).json()\n",
    "subscription_info_response\n"
   ]
  },
  {
   "cell_type": "markdown",
   "metadata": {},
   "source": [
    "The subscription Id is needed for further actions, so we can store this as a variable."
   ]
  },
  {
   "cell_type": "code",
   "execution_count": null,
   "metadata": {},
   "outputs": [],
   "source": [
    "subscription_id = subscription_info_response[0][\"Id\"]\n",
    "subscription_id"
   ]
  },
  {
   "cell_type": "markdown",
   "metadata": {},
   "source": [
    "### Read subscription\n",
    "\n",
    "The `$top={n_notifications}` in the url will return the top `n` notifications. \n",
    "If not provided, one notification will be read by default.\n",
    "You can request a maximum of 20 notifications.\n",
    "\n",
    "The whole response will be kept on your queue for 3 days. \n",
    "After 3 days, you will lose the `value` and `ProductName` entries.\n",
    "`ProductId` is still retained."
   ]
  },
  {
   "cell_type": "code",
   "execution_count": null,
   "metadata": {},
   "outputs": [],
   "source": [
    "headers = refresh_cdse_access_token_header(refresh_token)\n",
    "\n",
    "n_notifications = 3\n",
    "\n",
    "read_subscription_url = f\"https://catalogue.dataspace.copernicus.eu/odata/v1/Subscriptions({subscription_id})/Read?$top={n_notifications}\"\n",
    "read_subscription_response = requests.get(url=read_subscription_url, headers=headers).json()"
   ]
  },
  {
   "cell_type": "code",
   "execution_count": null,
   "metadata": {},
   "outputs": [],
   "source": [
    "read_subscription_response"
   ]
  },
  {
   "cell_type": "markdown",
   "metadata": {},
   "source": [
    "### Acknowledge subscription\n",
    "\n",
    "Notifications will remain on the queue until acknowledged.\n",
    "The maximum length of a queue is 100,000 notifications.\n",
    "If using PULL, notifications must be regularly read and acknowledged to avoid hitting this limit.\n",
    "\n",
    "Each notification comes with a `AckId`, which can be used to acknowledge the notification.\n",
    "Using the ‘AckId’ token for a specific notification means acknowledging receipt of the notification for which the `AckId` was assigned, along with all preceding read messages."
   ]
  },
  {
   "cell_type": "code",
   "execution_count": null,
   "metadata": {},
   "outputs": [],
   "source": [
    "product_ack_ids = [(message[\"ProductName\"], message[\"AckId\"]) for message in read_subscription_response]\n",
    "\n",
    "product_ack_ids"
   ]
  },
  {
   "cell_type": "markdown",
   "metadata": {},
   "source": [
    "#### Acknowledge the top product\n",
    "This should only acknowledge a single product."
   ]
  },
  {
   "cell_type": "code",
   "execution_count": null,
   "metadata": {},
   "outputs": [],
   "source": [
    "headers = refresh_cdse_access_token_header(refresh_token)\n",
    "\n",
    "product_to_acknowledge = product_ack_ids[0][0]\n",
    "product_ack_token = product_ack_ids[0][1]\n",
    "\n",
    "print(f\"Acknowledging product: {product_to_acknowledge}\")\n",
    "\n",
    "acknowledge_subscription_url = f\"https://catalogue.dataspace.copernicus.eu/odata/v1/Subscriptions({subscription_id})/Ack?$ackid={product_ack_token}\"\n",
    "acknowledge_subscription_response = requests.post(url=acknowledge_subscription_url, headers=headers)"
   ]
  },
  {
   "cell_type": "markdown",
   "metadata": {},
   "source": [
    "Note that the response lists that one notification was acknowledged:\n"
   ]
  },
  {
   "cell_type": "code",
   "execution_count": null,
   "metadata": {},
   "outputs": [],
   "source": [
    "acknowledge_subscription_response.json()"
   ]
  },
  {
   "cell_type": "markdown",
   "metadata": {},
   "source": [
    "#### Acknowledge the top two products by acknowledging the final item from the read\n",
    "\n",
    "Acknowledging the third (bottom) product from the original read should acknowledge all remaining preceding notifications."
   ]
  },
  {
   "cell_type": "code",
   "execution_count": null,
   "metadata": {},
   "outputs": [],
   "source": [
    "headers = refresh_cdse_access_token_header(refresh_token)\n",
    "\n",
    "product_to_acknowledge = product_ack_ids[-1][0]\n",
    "product_ack_token = product_ack_ids[-1][1]\n",
    "\n",
    "print(f\"Acknowledging product: {product_to_acknowledge}\")\n",
    "\n",
    "acknowledge_subscription_url = f\"https://catalogue.dataspace.copernicus.eu/odata/v1/Subscriptions({subscription_id})/Ack?$ackid={product_ack_token}\"\n",
    "acknowledge_subscription_response = requests.post(url=acknowledge_subscription_url, headers=headers)"
   ]
  },
  {
   "cell_type": "markdown",
   "metadata": {},
   "source": [
    "Note that the response lists that two notifications were acknowledged:"
   ]
  },
  {
   "cell_type": "code",
   "execution_count": null,
   "metadata": {},
   "outputs": [],
   "source": [
    "acknowledge_subscription_response.json()"
   ]
  },
  {
   "cell_type": "markdown",
   "metadata": {},
   "source": [
    "## Manage the subscription"
   ]
  },
  {
   "cell_type": "markdown",
   "metadata": {},
   "source": [
    "### Pause the subscription\n",
    "\n",
    "Set `Status` to `paused`"
   ]
  },
  {
   "cell_type": "code",
   "execution_count": null,
   "metadata": {},
   "outputs": [],
   "source": [
    "headers = refresh_cdse_access_token_header(refresh_token)\n",
    "\n",
    "subscription_url = f\"https://catalogue.dataspace.copernicus.eu/odata/v1/Subscriptions({subscription_id})\"\n",
    "\n",
    "data = {\n",
    "    \"Status\": \"paused\",\n",
    "}\n",
    "\n",
    "pause_subscription_response = requests.patch(url=subscription_url, json=data, headers=headers)"
   ]
  },
  {
   "cell_type": "code",
   "execution_count": null,
   "metadata": {},
   "outputs": [],
   "source": [
    "pause_subscription_response.json()"
   ]
  },
  {
   "cell_type": "markdown",
   "metadata": {},
   "source": [
    "### Resume the subscription\n",
    "\n",
    "Set `Status` to `running`"
   ]
  },
  {
   "cell_type": "code",
   "execution_count": null,
   "metadata": {},
   "outputs": [],
   "source": [
    "headers = refresh_cdse_access_token_header(refresh_token)\n",
    "\n",
    "subscription_url = f\"https://catalogue.dataspace.copernicus.eu/odata/v1/Subscriptions({subscription_id})\"\n",
    "\n",
    "data = {\n",
    "    \"Status\": \"running\",\n",
    "}\n",
    "\n",
    "running_subscription_response = requests.patch(url=subscription_url, json=data, headers=headers)"
   ]
  },
  {
   "cell_type": "code",
   "execution_count": null,
   "metadata": {},
   "outputs": [],
   "source": [
    "running_subscription_response.json()"
   ]
  },
  {
   "cell_type": "markdown",
   "metadata": {},
   "source": [
    "### Delete subscription\n",
    "\n",
    "Can be done in two ways:\n",
    "* Set `Status` to `cancelled` (same format as above)\n",
    "* run a `DELETE` request with the subscription ID\n",
    "\n",
    "We show the second option here.\n",
    "`<Response [204]>` indicating no content is expected."
   ]
  },
  {
   "cell_type": "code",
   "execution_count": null,
   "metadata": {},
   "outputs": [],
   "source": [
    "headers = refresh_cdse_access_token_header(refresh_token)\n",
    "\n",
    "subscription_url = f\"https://catalogue.dataspace.copernicus.eu/odata/v1/Subscriptions({subscription_id})\"\n",
    "\n",
    "delete_response = requests.delete(url=subscription_url, headers=headers)"
   ]
  },
  {
   "cell_type": "code",
   "execution_count": null,
   "metadata": {},
   "outputs": [],
   "source": [
    "delete_response"
   ]
  }
 ],
 "metadata": {
  "kernelspec": {
   "display_name": "default",
   "language": "python",
   "name": "python3"
  },
  "language_info": {
   "codemirror_mode": {
    "name": "ipython",
    "version": 3
   },
   "file_extension": ".py",
   "mimetype": "text/x-python",
   "name": "python",
   "nbconvert_exporter": "python",
   "pygments_lexer": "ipython3",
   "version": "3.13.2"
  }
 },
 "nbformat": 4,
 "nbformat_minor": 2
}
