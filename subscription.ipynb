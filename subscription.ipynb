{
 "cells": [
  {
   "cell_type": "code",
   "execution_count": null,
   "metadata": {},
   "outputs": [],
   "source": [
    "%load_ext autoreload\n",
    "%autoreload 2"
   ]
  },
  {
   "cell_type": "code",
   "execution_count": null,
   "metadata": {},
   "outputs": [],
   "source": [
    "import requests\n",
    "from requests.exceptions import HTTPError\n",
    "import yaml"
   ]
  },
  {
   "cell_type": "markdown",
   "metadata": {},
   "source": [
    "## Read CDSE credentials"
   ]
  },
  {
   "cell_type": "code",
   "execution_count": null,
   "metadata": {},
   "outputs": [],
   "source": [
    "cdse_credentials_file = \"credentials/credentials_cdse.yaml\"\n",
    "\n",
    "with open(cdse_credentials_file, \"r\") as file:\n",
    "    cdse_credentials = yaml.safe_load(file)"
   ]
  },
  {
   "cell_type": "markdown",
   "metadata": {},
   "source": [
    "## Set up access and refresh token"
   ]
  },
  {
   "cell_type": "code",
   "execution_count": null,
   "metadata": {},
   "outputs": [],
   "source": [
    "cdse_token_url = \"https://identity.dataspace.copernicus.eu/auth/realms/CDSE/protocol/openid-connect/token\"\n",
    "\n",
    "data = {\n",
    "    \"grant_type\": \"password\",\n",
    "    \"username\": f\"{cdse_credentials[\"login\"]}\",\n",
    "    \"password\": f\"{cdse_credentials[\"password\"]}\",\n",
    "    \"client_id\": \"cdse-public\",\n",
    "}\n",
    "\n",
    "response = requests.post(\n",
    "    url=cdse_token_url,\n",
    "    data=data,\n",
    ")\n",
    "\n",
    "access_token = response.json()[\"access_token\"]\n",
    "refresh_token = response.json()[\"refresh_token\"]"
   ]
  },
  {
   "cell_type": "markdown",
   "metadata": {},
   "source": [
    "### Define function to refresh access token\n",
    "The refresh token can be used to re-generate the access token without supplying usernames and passwords"
   ]
  },
  {
   "cell_type": "code",
   "execution_count": null,
   "metadata": {},
   "outputs": [],
   "source": [
    "def refresh_cdse_access_token_header(refresh_token):\n",
    "\n",
    "    cdse_token_url = \"https://identity.dataspace.copernicus.eu/auth/realms/CDSE/protocol/openid-connect/token\"\n",
    "\n",
    "    data = {\n",
    "        \"grant_type\": \"refresh_token\",\n",
    "        \"refresh_token\": f\"{refresh_token}\",\n",
    "        \"client_id\": \"cdse-public\",\n",
    "    }\n",
    "\n",
    "    response = requests.post(\n",
    "        url=cdse_token_url,\n",
    "        data=data,\n",
    "    )\n",
    "\n",
    "    access_token = response.json()[\"access_token\"]\n",
    "    headers = {\"Authorization\": f\"Bearer {access_token}\"}\n",
    "\n",
    "    return headers"
   ]
  },
  {
   "cell_type": "markdown",
   "metadata": {},
   "source": [
    "## PULL subscription"
   ]
  },
  {
   "cell_type": "markdown",
   "metadata": {},
   "source": [
    "### Create the subscription\n",
    "\n",
    "It appears a user may only have one subscription active. \n",
    "The code will attempt to create a subscription, and return a message if it fails"
   ]
  },
  {
   "cell_type": "code",
   "execution_count": null,
   "metadata": {},
   "outputs": [],
   "source": [
    "headers = refresh_cdse_access_token_header(refresh_token)\n",
    "\n",
    "# Create pull subscription\n",
    "pull_subscription_url = \"https://catalogue.dataspace.copernicus.eu/odata/v1/Subscriptions\"\n",
    "\n",
    "pull_subscription_data = {\n",
    "    \"StageOrder\": True,\n",
    "    \"FilterParam\": \"Collection/Name eq 'SENTINEL-1' and Attributes/OData.CSC.StringAttribute/any(att:att/Name eq 'productType' and att/OData.CSC.StringAttribute/Value eq 'IW_SLC__1S')\",\n",
    "    \"Priority\": 1,\n",
    "    \"Status\": \"running\",\n",
    "    \"SubscriptionEvent\": \"modified\"\n",
    "}\n",
    "\n",
    "# Try to create the subscription, raise an error if limit of subscriptions is reached\n",
    "try:\n",
    "    subscription_response = requests.post(\n",
    "        url=pull_subscription_url, \n",
    "        json=pull_subscription_data, \n",
    "        headers=headers\n",
    "    )\n",
    "    subscription_response.raise_for_status()\n",
    "except HTTPError as http_err:\n",
    "    print(f\"HTTP error occurred: {http_err}\")\n",
    "    message = subscription_response.json()[\"detail\"][\"message\"]\n",
    "    print(f\"HTTP error message: {message}\")"
   ]
  },
  {
   "cell_type": "markdown",
   "metadata": {},
   "source": [
    "### View the subscription"
   ]
  },
  {
   "cell_type": "code",
   "execution_count": null,
   "metadata": {},
   "outputs": [],
   "source": [
    "headers = refresh_cdse_access_token_header(refresh_token)\n",
    "\n",
    "cdse_subscription_info_url = \"https://catalogue.dataspace.copernicus.eu/odata/v1/Subscriptions/Info\"\n",
    "\n",
    "subscription_info_response = requests.get(url=cdse_subscription_info_url, headers=headers).json()\n",
    "subscription_info_response\n"
   ]
  },
  {
   "cell_type": "code",
   "execution_count": null,
   "metadata": {},
   "outputs": [],
   "source": [
    "subscription_id = subscription_info_response[0][\"Id\"]\n",
    "subscription_id"
   ]
  },
  {
   "cell_type": "markdown",
   "metadata": {},
   "source": [
    "### Read subscription"
   ]
  },
  {
   "cell_type": "code",
   "execution_count": null,
   "metadata": {},
   "outputs": [],
   "source": [
    "headers = refresh_cdse_access_token_header(refresh_token)\n",
    "\n",
    "read_subscription_url = f\"https://catalogue.dataspace.copernicus.eu/odata/v1/Subscriptions({subscription_id})/Read?$top=2\"\n",
    "read_subscription_response = requests.get(url=read_subscription_url, headers=headers)"
   ]
  },
  {
   "cell_type": "code",
   "execution_count": null,
   "metadata": {},
   "outputs": [],
   "source": [
    "read_subscription_response.json()\n"
   ]
  },
  {
   "cell_type": "markdown",
   "metadata": {},
   "source": [
    "### Acknowledge subscription"
   ]
  },
  {
   "cell_type": "markdown",
   "metadata": {},
   "source": [
    "### Delete subscription"
   ]
  },
  {
   "cell_type": "code",
   "execution_count": null,
   "metadata": {},
   "outputs": [],
   "source": []
  }
 ],
 "metadata": {
  "kernelspec": {
   "display_name": "default",
   "language": "python",
   "name": "python3"
  },
  "language_info": {
   "codemirror_mode": {
    "name": "ipython",
    "version": 3
   },
   "file_extension": ".py",
   "mimetype": "text/x-python",
   "name": "python",
   "nbconvert_exporter": "python",
   "pygments_lexer": "ipython3",
   "version": "3.13.2"
  }
 },
 "nbformat": 4,
 "nbformat_minor": 2
}
